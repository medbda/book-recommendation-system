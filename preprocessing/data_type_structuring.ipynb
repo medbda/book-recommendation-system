{
 "cells": [
  {
   "cell_type": "code",
   "execution_count": 2,
   "id": "0614d261",
   "metadata": {},
   "outputs": [],
   "source": [
    "import pyspark\n",
    "from pyspark.sql import SparkSession"
   ]
  },
  {
   "cell_type": "code",
   "execution_count": 3,
   "id": "e732d411",
   "metadata": {},
   "outputs": [
    {
     "name": "stderr",
     "output_type": "stream",
     "text": [
      "25/08/02 19:04:20 WARN Utils: Your hostname, vaibhavi-HP-Laptop-15-fd0xxx resolves to a loopback address: 127.0.1.1; using 192.168.0.128 instead (on interface wlo1)\n",
      "25/08/02 19:04:20 WARN Utils: Set SPARK_LOCAL_IP if you need to bind to another address\n",
      "Setting default log level to \"WARN\".\n",
      "To adjust logging level use sc.setLogLevel(newLevel). For SparkR, use setLogLevel(newLevel).\n",
      "25/08/02 19:04:20 WARN NativeCodeLoader: Unable to load native-hadoop library for your platform... using builtin-java classes where applicable\n",
      "25/08/02 19:04:21 WARN Utils: Service 'SparkUI' could not bind on port 4040. Attempting port 4041.\n"
     ]
    }
   ],
   "source": [
    "spark = SparkSession.builder.appName(\"Proprocessing\").config(\"spark.driver.memory\",\"2g\").config(\"spark.executor.memory\",\"2g\").getOrCreate()"
   ]
  },
  {
   "cell_type": "code",
   "execution_count": 3,
   "id": "3dbcd3ff",
   "metadata": {},
   "outputs": [],
   "source": [
    "df = spark.read.parquet(\"/home/vaibhavi/spark-ml-venv/ml_project/hybrid_book_recommender/data/final_books_data\")"
   ]
  },
  {
   "cell_type": "code",
   "execution_count": 4,
   "id": "79c4c151",
   "metadata": {},
   "outputs": [
    {
     "name": "stdout",
     "output_type": "stream",
     "text": [
      "root\n",
      " |-- id: string (nullable = true)\n",
      " |-- title: string (nullable = true)\n",
      " |-- release_date: string (nullable = true)\n",
      " |-- release_year: string (nullable = true)\n",
      " |-- reviews_count: string (nullable = true)\n",
      " |-- slug: string (nullable = true)\n",
      " |-- users_count: string (nullable = true)\n",
      " |-- pages: string (nullable = true)\n",
      " |-- description: string (nullable = true)\n",
      " |-- book_category_id: string (nullable = true)\n",
      " |-- author_name: string (nullable = true)\n",
      " |-- weighted_rating_value: double (nullable = true)\n",
      " |-- genres: array (nullable = true)\n",
      " |    |-- element: string (containsNull = true)\n",
      "\n"
     ]
    }
   ],
   "source": [
    "df.printSchema()"
   ]
  },
  {
   "cell_type": "code",
   "execution_count": 5,
   "id": "64c7da56",
   "metadata": {},
   "outputs": [],
   "source": [
    "from pyspark.sql.functions import col\n",
    "from pyspark.sql.types import IntegerType, DoubleType, ArrayType, StringType,LongType\n",
    "\n",
    "df = df.withColumn(\"id\",col(\"id\").cast(LongType()))\\\n",
    "       .withColumn(\"release_year\", col(\"release_year\").cast(IntegerType())) \\\n",
    "       .withColumn(\"reviews_count\", col(\"reviews_count\").cast(IntegerType())) \\\n",
    "       .withColumn(\"users_count\", col(\"users_count\").cast(IntegerType())) \\\n",
    "       .withColumn(\"pages\", col(\"pages\").cast(IntegerType())) \\\n",
    "       .withColumn(\"book_category_id\", col(\"book_category_id\").cast(IntegerType())) \\\n",
    "       .withColumn(\"weighted_rating_value\", col(\"weighted_rating_value\").cast(DoubleType())) \\\n",
    "       .withColumn(\"genres\", col(\"genres\").cast(ArrayType(StringType()))) \\\n",
    "       .withColumnRenamed(\"weighted_rating_value\", \"rating\")\n"
   ]
  },
  {
   "cell_type": "code",
   "execution_count": 6,
   "id": "a1112a58",
   "metadata": {},
   "outputs": [
    {
     "name": "stdout",
     "output_type": "stream",
     "text": [
      "root\n",
      " |-- id: long (nullable = true)\n",
      " |-- title: string (nullable = true)\n",
      " |-- release_date: string (nullable = true)\n",
      " |-- release_year: integer (nullable = true)\n",
      " |-- reviews_count: integer (nullable = true)\n",
      " |-- slug: string (nullable = true)\n",
      " |-- users_count: integer (nullable = true)\n",
      " |-- pages: integer (nullable = true)\n",
      " |-- description: string (nullable = true)\n",
      " |-- book_category_id: integer (nullable = true)\n",
      " |-- author_name: string (nullable = true)\n",
      " |-- rating: double (nullable = true)\n",
      " |-- genres: array (nullable = true)\n",
      " |    |-- element: string (containsNull = true)\n",
      "\n"
     ]
    }
   ],
   "source": [
    "df.printSchema()"
   ]
  },
  {
   "cell_type": "code",
   "execution_count": 7,
   "id": "a06a2c08",
   "metadata": {},
   "outputs": [],
   "source": [
    "from pyspark.sql.functions import col, sum\n",
    "\n",
    "def check_null(df):\n",
    "# Replace `df` with your DataFrame\n",
    "    df.select([sum(col(c).isNull().cast(\"int\")).alias(c) for c in df.columns]).show()\n"
   ]
  },
  {
   "cell_type": "code",
   "execution_count": 8,
   "id": "6a5b24a0",
   "metadata": {},
   "outputs": [
    {
     "name": "stderr",
     "output_type": "stream",
     "text": [
      "                                                                                \r"
     ]
    },
    {
     "name": "stdout",
     "output_type": "stream",
     "text": [
      "+---+-----+------------+------------+-------------+----+-----------+-----+-----------+----------------+-----------+------+------+\n",
      "| id|title|release_date|release_year|reviews_count|slug|users_count|pages|description|book_category_id|author_name|rating|genres|\n",
      "+---+-----+------------+------------+-------------+----+-----------+-----+-----------+----------------+-----------+------+------+\n",
      "|  0|    0|           0|           0|            0|   0|          0|    0|          0|               0|          0|     0|     0|\n",
      "+---+-----+------------+------------+-------------+----+-----------+-----+-----------+----------------+-----------+------+------+\n",
      "\n"
     ]
    }
   ],
   "source": [
    "check_null(df)"
   ]
  },
  {
   "cell_type": "code",
   "execution_count": 9,
   "id": "7666981f",
   "metadata": {},
   "outputs": [],
   "source": [
    "df2 = spark.read.parquet(\"/home/vaibhavi/spark-ml-venv/ml_project/data/data_modelling/output/clean_books.parquet\")"
   ]
  },
  {
   "cell_type": "code",
   "execution_count": 10,
   "id": "75feecf0",
   "metadata": {},
   "outputs": [
    {
     "name": "stdout",
     "output_type": "stream",
     "text": [
      "root\n",
      " |-- id: string (nullable = true)\n",
      " |-- title: string (nullable = true)\n",
      " |-- rating: string (nullable = true)\n",
      " |-- ratings_count: string (nullable = true)\n",
      " |-- release_date: string (nullable = true)\n",
      " |-- release_year: string (nullable = true)\n",
      " |-- reviews_count: string (nullable = true)\n",
      " |-- slug: string (nullable = true)\n",
      " |-- users_count: string (nullable = true)\n",
      " |-- pages: string (nullable = true)\n",
      " |-- description: string (nullable = true)\n",
      " |-- book_category_id: string (nullable = true)\n",
      " |-- links: string (nullable = true)\n",
      " |-- author_name: string (nullable = true)\n",
      " |-- rating_count: long (nullable = true)\n",
      " |-- rating_value: double (nullable = true)\n",
      " |-- image_url: string (nullable = true)\n",
      " |-- image_color: string (nullable = true)\n",
      " |-- genre_tag: string (nullable = true)\n",
      "\n"
     ]
    }
   ],
   "source": [
    "df2.printSchema()"
   ]
  },
  {
   "cell_type": "code",
   "execution_count": 39,
   "id": "b6cb8688",
   "metadata": {},
   "outputs": [
    {
     "name": "stdout",
     "output_type": "stream",
     "text": [
      "Columns in df2 but not in df: ['ratings_count', 'links', 'rating_count', 'rating_value', 'image_url', 'image_color', 'genre_tag']\n"
     ]
    }
   ],
   "source": [
    "# Difference: columns in df1 but not in df2\n",
    "diff_cols = [col for col in df2.columns if col not in df.columns]\n",
    "print(\"Columns in df2 but not in df:\", diff_cols)\n"
   ]
  },
  {
   "cell_type": "code",
   "execution_count": 23,
   "id": "79f1bfca",
   "metadata": {},
   "outputs": [],
   "source": [
    "df3 = df2.select(\"id\",\"image_url\",\"image_color\")"
   ]
  },
  {
   "cell_type": "code",
   "execution_count": 24,
   "id": "e711705b",
   "metadata": {},
   "outputs": [
    {
     "name": "stdout",
     "output_type": "stream",
     "text": [
      "root\n",
      " |-- id: string (nullable = true)\n",
      " |-- image_url: string (nullable = true)\n",
      " |-- image_color: string (nullable = true)\n",
      "\n"
     ]
    }
   ],
   "source": [
    "df3.printSchema()"
   ]
  },
  {
   "cell_type": "code",
   "execution_count": 25,
   "id": "574453ec",
   "metadata": {},
   "outputs": [],
   "source": [
    "df3 = df3.withColumn(\"id\",col(\"id\").cast(LongType()))"
   ]
  },
  {
   "cell_type": "code",
   "execution_count": 26,
   "id": "57f284b3",
   "metadata": {},
   "outputs": [
    {
     "name": "stdout",
     "output_type": "stream",
     "text": [
      "root\n",
      " |-- id: long (nullable = true)\n",
      " |-- image_url: string (nullable = true)\n",
      " |-- image_color: string (nullable = true)\n",
      "\n"
     ]
    }
   ],
   "source": [
    "df3.printSchema()"
   ]
  },
  {
   "cell_type": "code",
   "execution_count": 15,
   "id": "2d904f04",
   "metadata": {},
   "outputs": [
    {
     "name": "stderr",
     "output_type": "stream",
     "text": [
      "[Stage 5:===========================================>              (9 + 3) / 12]\r"
     ]
    },
    {
     "name": "stdout",
     "output_type": "stream",
     "text": [
      "+----+---------+-----------+\n",
      "|  id|image_url|image_color|\n",
      "+----+---------+-----------+\n",
      "|1131|        0|          0|\n",
      "+----+---------+-----------+\n",
      "\n"
     ]
    },
    {
     "name": "stderr",
     "output_type": "stream",
     "text": [
      "                                                                                \r"
     ]
    }
   ],
   "source": [
    "check_null(df3)"
   ]
  },
  {
   "cell_type": "code",
   "execution_count": 27,
   "id": "a1cf2a89",
   "metadata": {},
   "outputs": [
    {
     "data": {
      "text/plain": [
       "3257144"
      ]
     },
     "execution_count": 27,
     "metadata": {},
     "output_type": "execute_result"
    }
   ],
   "source": [
    "df3.count()"
   ]
  },
  {
   "cell_type": "code",
   "execution_count": 28,
   "id": "c34ece88",
   "metadata": {},
   "outputs": [
    {
     "data": {
      "text/plain": [
       "1302995"
      ]
     },
     "execution_count": 28,
     "metadata": {},
     "output_type": "execute_result"
    }
   ],
   "source": [
    "df.count()"
   ]
  },
  {
   "cell_type": "code",
   "execution_count": 31,
   "id": "57ade7dd",
   "metadata": {},
   "outputs": [],
   "source": [
    "df3 = df3.dropna()"
   ]
  },
  {
   "cell_type": "code",
   "execution_count": 32,
   "id": "3d0fc500",
   "metadata": {},
   "outputs": [
    {
     "data": {
      "text/plain": [
       "3256013"
      ]
     },
     "execution_count": 32,
     "metadata": {},
     "output_type": "execute_result"
    }
   ],
   "source": [
    "df3.count()"
   ]
  },
  {
   "cell_type": "code",
   "execution_count": 33,
   "id": "3cda5653",
   "metadata": {},
   "outputs": [],
   "source": [
    "df3 = df3.select(\"id\", \"image_url\", \"image_color\").dropDuplicates([\"id\"])\n"
   ]
  },
  {
   "cell_type": "code",
   "execution_count": 34,
   "id": "3f46b090",
   "metadata": {},
   "outputs": [
    {
     "name": "stderr",
     "output_type": "stream",
     "text": [
      "                                                                                \r"
     ]
    },
    {
     "data": {
      "text/plain": [
       "948358"
      ]
     },
     "execution_count": 34,
     "metadata": {},
     "output_type": "execute_result"
    }
   ],
   "source": [
    "df3.count()"
   ]
  },
  {
   "cell_type": "code",
   "execution_count": 35,
   "id": "3e0b5e7d",
   "metadata": {},
   "outputs": [],
   "source": [
    "df4 = df.join(df3, on=\"id\", how=\"left\")"
   ]
  },
  {
   "cell_type": "code",
   "execution_count": 36,
   "id": "b2830e49",
   "metadata": {},
   "outputs": [
    {
     "data": {
      "text/plain": [
       "1302995"
      ]
     },
     "execution_count": 36,
     "metadata": {},
     "output_type": "execute_result"
    }
   ],
   "source": [
    "df4.count()"
   ]
  },
  {
   "cell_type": "code",
   "execution_count": 37,
   "id": "ce44805c",
   "metadata": {},
   "outputs": [
    {
     "name": "stderr",
     "output_type": "stream",
     "text": [
      "[Stage 42:>                                                       (0 + 12) / 13]\r"
     ]
    },
    {
     "name": "stdout",
     "output_type": "stream",
     "text": [
      "+---+-----+------------+------------+-------------+----+-----------+-----+-----------+----------------+-----------+------+------+---------+-----------+\n",
      "| id|title|release_date|release_year|reviews_count|slug|users_count|pages|description|book_category_id|author_name|rating|genres|image_url|image_color|\n",
      "+---+-----+------------+------------+-------------+----+-----------+-----+-----------+----------------+-----------+------+------+---------+-----------+\n",
      "|  0|    0|           0|           0|            0|   0|          0|    0|          0|               0|          0|     0|     0|        0|          0|\n",
      "+---+-----+------------+------------+-------------+----+-----------+-----+-----------+----------------+-----------+------+------+---------+-----------+\n",
      "\n"
     ]
    },
    {
     "name": "stderr",
     "output_type": "stream",
     "text": [
      "                                                                                \r"
     ]
    }
   ],
   "source": [
    "check_null(df4)"
   ]
  },
  {
   "cell_type": "code",
   "execution_count": 38,
   "id": "2a89bfa5",
   "metadata": {},
   "outputs": [
    {
     "name": "stderr",
     "output_type": "stream",
     "text": [
      "                                                                                \r"
     ]
    }
   ],
   "source": [
    "df4.write.mode(\"overwrite\").parquet(\"/home/vaibhavi/spark-ml-venv/ml_project/hybrid_book_recommender/data/books_df\")\n"
   ]
  },
  {
   "cell_type": "code",
   "execution_count": 4,
   "id": "dbb7db16",
   "metadata": {},
   "outputs": [
    {
     "name": "stderr",
     "output_type": "stream",
     "text": [
      "                                                                                \r"
     ]
    }
   ],
   "source": [
    "pca = spark.read.parquet(\"/home/vaibhavi/spark-ml-venv/ml_project/hybrid_book_recommender/data/pca_vectorized_df\")"
   ]
  },
  {
   "cell_type": "code",
   "execution_count": 5,
   "id": "f54e1838",
   "metadata": {},
   "outputs": [
    {
     "name": "stdout",
     "output_type": "stream",
     "text": [
      "root\n",
      " |-- id: long (nullable = true)\n",
      " |-- title: string (nullable = true)\n",
      " |-- pca_features: vector (nullable = true)\n",
      "\n"
     ]
    }
   ],
   "source": [
    "pca.printSchema()"
   ]
  },
  {
   "cell_type": "code",
   "execution_count": null,
   "id": "60e7e14e",
   "metadata": {},
   "outputs": [],
   "source": []
  }
 ],
 "metadata": {
  "kernelspec": {
   "display_name": "ml-project-env",
   "language": "python",
   "name": "python3"
  },
  "language_info": {
   "codemirror_mode": {
    "name": "ipython",
    "version": 3
   },
   "file_extension": ".py",
   "mimetype": "text/x-python",
   "name": "python",
   "nbconvert_exporter": "python",
   "pygments_lexer": "ipython3",
   "version": "3.10.12"
  }
 },
 "nbformat": 4,
 "nbformat_minor": 5
}
